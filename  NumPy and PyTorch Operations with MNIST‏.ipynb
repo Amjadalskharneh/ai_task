{
  "nbformat": 4,
  "nbformat_minor": 0,
  "metadata": {
    "colab": {
      "provenance": [],
      "include_colab_link": true
    },
    "kernelspec": {
      "name": "python3",
      "display_name": "Python 3"
    },
    "language_info": {
      "name": "python"
    }
  },
  "cells": [
    {
      "cell_type": "markdown",
      "metadata": {
        "id": "view-in-github",
        "colab_type": "text"
      },
      "source": [
        "<a href=\"https://colab.research.google.com/github/Amjadalskharneh/ai_task/blob/main/%20NumPy%20and%20PyTorch%20Operations%20with%20MNIST%E2%80%8F.ipynb\" target=\"_parent\"><img src=\"https://colab.research.google.com/assets/colab-badge.svg\" alt=\"Open In Colab\"/></a>"
      ]
    },
    {
      "cell_type": "markdown",
      "source": [
        "# Optional Assignment: Advanced NumPy and PyTorch Operations with MNIST\n",
        "\n",
        "\n",
        "Description:\n",
        "This optional assignment is designed to enhance your skills in NumPy and PyTorch,\n",
        "focusing on tensor operations using the MNIST dataset. By completing this assignment,\n",
        "you'll gain hands-on experience with advanced tensor manipulations, data preprocessing,\n",
        "and visualization techniques commonly used in deep learning projects.\n",
        "\n",
        "Objectives:\n",
        "1. Practice tensor operations in PyTorch\n",
        "2. Explore data manipulation techniques with the MNIST dataset\n",
        "3. Gain experience in converting between NumPy arrays and PyTorch tensors\n",
        "4. Enhance your understanding of tensor shapes and dimensions\n",
        "\n",
        "Note: This assignment is entirely optional. It's meant to provide additional practice\n",
        "and deepen your understanding of NumPy and PyTorch. Feel free to explore, experiment,\n",
        "and refer to the official documentation as you work through the exercises.\n",
        "\n",
        "Good luck and enjoy the learning process!\n"
      ],
      "metadata": {
        "id": "UeGh6JnCKV13"
      }
    },
    {
      "cell_type": "code",
      "execution_count": null,
      "metadata": {
        "colab": {
          "base_uri": "https://localhost:8080/"
        },
        "id": "Vyt7fLCkHc8m",
        "outputId": "8b6dafd0-597a-4a14-cd6e-53cbbc7e8504"
      },
      "outputs": [
        {
          "output_type": "stream",
          "name": "stdout",
          "text": [
            "Random NumPy array:\n",
            "[[0.76047779 0.69942683 0.77628247 0.11152974]\n",
            " [0.36503646 0.78832549 0.98910291 0.80218508]\n",
            " [0.59595581 0.90937115 0.71656616 0.68213256]]\n",
            "\n",
            "Random PyTorch tensor:\n",
            "tensor([[0.5551, 0.8730, 0.0209, 0.1502],\n",
            "        [0.6026, 0.6374, 0.9996, 0.3745],\n",
            "        [0.9221, 0.4645, 0.5800, 0.9584]])\n"
          ]
        }
      ],
      "source": [
        "# NumPy and PyTorch Tensor Operations Assignment\n",
        "\n",
        "import numpy as np\n",
        "import torch\n",
        "import matplotlib.pyplot as plt\n",
        "from torchvision import datasets, transforms\n",
        "\n",
        "# Create a random NumPy array\n",
        "np_random = np.random.rand(3, 4)\n",
        "print(\"Random NumPy array:\")\n",
        "print(np_random)\n",
        "\n",
        "# Create a random PyTorch tensor\n",
        "torch_random = torch.rand(3, 4)\n",
        "print(\"\\nRandom PyTorch tensor:\")\n",
        "print(torch_random)\n",
        "\n"
      ]
    },
    {
      "cell_type": "code",
      "source": [
        "#  Reshaping\n",
        "# Reshape NumPy array\n",
        "np_reshaped = np_random.reshape(2, 6)\n",
        "print(\"Reshaped NumPy array:\")\n",
        "print(np_reshaped)\n",
        "\n",
        "# Reshape PyTorch tensor\n",
        "torch_reshaped = torch_random.reshape(2, 6)\n",
        "print(\"\\nReshaped PyTorch tensor:\")\n",
        "print(torch_reshaped)\n"
      ],
      "metadata": {
        "colab": {
          "base_uri": "https://localhost:8080/"
        },
        "id": "Zw_MnP7GH7pm",
        "outputId": "de0587f6-392d-4b9d-a879-fb6838bc59ba"
      },
      "execution_count": null,
      "outputs": [
        {
          "output_type": "stream",
          "name": "stdout",
          "text": [
            "Reshaped NumPy array:\n",
            "[[0.76047779 0.69942683 0.77628247 0.11152974 0.36503646 0.78832549]\n",
            " [0.98910291 0.80218508 0.59595581 0.90937115 0.71656616 0.68213256]]\n",
            "\n",
            "Reshaped PyTorch tensor:\n",
            "tensor([[0.5551, 0.8730, 0.0209, 0.1502, 0.6026, 0.6374],\n",
            "        [0.9996, 0.3745, 0.9221, 0.4645, 0.5800, 0.9584]])\n"
          ]
        }
      ]
    },
    {
      "cell_type": "code",
      "source": [
        "# NumPy array multiplication\n",
        "np_mult = np.multiply(np_random, 2)\n",
        "print(\"NumPy array multiplication:\")\n",
        "print(np_mult)\n",
        "\n",
        "# PyTorch tensor multiplication\n",
        "torch_mult = torch.mul(torch_random, 2)\n",
        "print(\"\\nPyTorch tensor multiplication:\")\n",
        "print(torch_mult)"
      ],
      "metadata": {
        "colab": {
          "base_uri": "https://localhost:8080/"
        },
        "id": "dm4nBKieH7wl",
        "outputId": "488c6ed5-0416-497d-a3ff-e8a9ce748b0d"
      },
      "execution_count": null,
      "outputs": [
        {
          "output_type": "stream",
          "name": "stdout",
          "text": [
            "NumPy array multiplication:\n",
            "[[1.52095557 1.39885366 1.55256495 0.22305948]\n",
            " [0.73007292 1.57665099 1.97820582 1.60437017]\n",
            " [1.19191162 1.8187423  1.43313232 1.36426512]]\n",
            "\n",
            "PyTorch tensor multiplication:\n",
            "tensor([[1.1103, 1.7459, 0.0417, 0.3004],\n",
            "        [1.2052, 1.2747, 1.9992, 0.7489],\n",
            "        [1.8443, 0.9290, 1.1601, 1.9168]])\n"
          ]
        }
      ]
    },
    {
      "cell_type": "code",
      "source": [
        "#  Permute shape\n",
        "# Permute NumPy array\n",
        "np_permuted = np.transpose(np_random, (1, 0))\n",
        "print(\"Permuted NumPy array:\")\n",
        "print(np_permuted)\n",
        "\n",
        "# Permute PyTorch tensor\n",
        "torch_permuted = torch_random.permute(1, 0)\n",
        "print(\"\\nPermuted PyTorch tensor:\")\n",
        "print(torch_permuted)\n"
      ],
      "metadata": {
        "colab": {
          "base_uri": "https://localhost:8080/"
        },
        "id": "8w3j6Z6PH7z-",
        "outputId": "15e19cb4-4bdd-4ce7-e9be-65656a8f9da9"
      },
      "execution_count": null,
      "outputs": [
        {
          "output_type": "stream",
          "name": "stdout",
          "text": [
            "Permuted NumPy array:\n",
            "[[0.76047779 0.36503646 0.59595581]\n",
            " [0.69942683 0.78832549 0.90937115]\n",
            " [0.77628247 0.98910291 0.71656616]\n",
            " [0.11152974 0.80218508 0.68213256]]\n",
            "\n",
            "Permuted PyTorch tensor:\n",
            "tensor([[0.5551, 0.6026, 0.9221],\n",
            "        [0.8730, 0.6374, 0.4645],\n",
            "        [0.0209, 0.9996, 0.5800],\n",
            "        [0.1502, 0.3745, 0.9584]])\n"
          ]
        }
      ]
    },
    {
      "cell_type": "code",
      "source": [
        "# Convert between NumPy and PyTorch\n",
        "# NumPy to PyTorch\n",
        "np_to_torch = torch.from_numpy(np_random)\n",
        "print(\"NumPy to PyTorch:\")\n",
        "print(np_to_torch)\n",
        "\n",
        "# PyTorch to NumPy\n",
        "torch_to_np = torch_random.numpy()\n",
        "print(\"\\nPyTorch to NumPy:\")\n",
        "print(torch_to_np)"
      ],
      "metadata": {
        "colab": {
          "base_uri": "https://localhost:8080/"
        },
        "id": "4fGkJdSiH73F",
        "outputId": "9a6aeb77-722e-42e0-fb6d-83f8c6122e50"
      },
      "execution_count": null,
      "outputs": [
        {
          "output_type": "stream",
          "name": "stdout",
          "text": [
            "NumPy to PyTorch:\n",
            "tensor([[0.7605, 0.6994, 0.7763, 0.1115],\n",
            "        [0.3650, 0.7883, 0.9891, 0.8022],\n",
            "        [0.5960, 0.9094, 0.7166, 0.6821]], dtype=torch.float64)\n",
            "\n",
            "PyTorch to NumPy:\n",
            "[[0.5551491  0.8729612  0.02085137 0.15021557]\n",
            " [0.602594   0.6373625  0.99957913 0.37445766]\n",
            " [0.9221425  0.46449423 0.5800342  0.9583841 ]]\n"
          ]
        }
      ]
    },
    {
      "cell_type": "code",
      "source": [
        "# NumPy and PyTorch Tensor Operations on MNIST Dataset\n",
        "\n",
        "import numpy as np\n",
        "import torch\n",
        "import matplotlib.pyplot as plt\n",
        "from torchvision import datasets, transforms\n",
        "\n",
        "# Load MNIST dataset\n",
        "transform = transforms.Compose([transforms.ToTensor()])\n",
        "mnist_train = datasets.MNIST(root='./data', train=True, download=True, transform=transform)\n",
        "mnist_test = datasets.MNIST(root='./data', train=False, download=True, transform=transform)\n",
        "\n",
        "# Create a batch of MNIST images\n",
        "batch_size = 64\n",
        "train_loader = torch.utils.data.DataLoader(mnist_train, batch_size=batch_size, shuffle=True)\n",
        "images, labels = next(iter(train_loader))\n",
        "print(\"Shape of the batch:\", images.shape)\n",
        "\n",
        "# Concatenation\n",
        "# Concatenate along the batch dimension\n",
        "concat_images = torch.cat((images, images), dim=0)\n",
        "print(\"Shape after concatenation:\", concat_images.shape)"
      ],
      "metadata": {
        "colab": {
          "base_uri": "https://localhost:8080/"
        },
        "id": "M0BQVLMgH753",
        "outputId": "b6eb7120-a4c7-41ca-c236-ec9f5a7c1292"
      },
      "execution_count": null,
      "outputs": [
        {
          "output_type": "stream",
          "name": "stdout",
          "text": [
            "Shape of the batch: torch.Size([64, 1, 28, 28])\n",
            "Shape after concatenation: torch.Size([128, 1, 28, 28])\n"
          ]
        }
      ]
    },
    {
      "cell_type": "code",
      "source": [
        "import torch\n",
        "from torchvision import datasets, transforms\n",
        "\n",
        "# Load MNIST dataset\n",
        "transform = transforms.Compose([transforms.ToTensor()])\n",
        "mnist_train = datasets.MNIST(root='./data', train=True, download=True, transform=transform)\n",
        "\n",
        "# Create a batch of MNIST images\n",
        "batch_size = 64\n",
        "train_loader = torch.utils.data.DataLoader(mnist_train, batch_size=batch_size, shuffle=True)\n",
        "images, labels = next(iter(train_loader))\n",
        "print(\"Shape of the batch:\", images.shape)\n",
        "# Cell 4: Add and remove dimensions\n",
        "# TODO: Add a new dimension to the 'images' tensorb\n",
        "expanded_images =images.unsqueeze(1)\n",
        "print(\"Shape after adding dimension:\", expanded_images.shape)\n",
        "\n",
        "# TODO: Remove the added dimension from 'expanded_images'\n",
        "squeezed_images = expanded_images.squeeze(1)\n",
        "print(\"Shape after removing dimension:\", squeezed_images.shape)\n",
        "\n",
        "# Cell 5: Flatten tensors\n",
        "# TODO: Flatten the 'images' tensor to have shape (batch_size, -1)\n",
        "flattened_images = images.view(batch_size, -1)\n",
        "print(\"Shape of flattened images:\", flattened_images.shape)\n",
        "\n",
        "# Cell 6: Slicing\n",
        "# TODO: Get the first 10 images from the 'images' tensor\n",
        "first_10_images = images[:10]\n",
        "print(\"Shape of first 10 images:\", first_10_images.shape)\n",
        "\n",
        "# TODO: Get all channels of the first image\n",
        "first_image_all_channels = images[0]\n",
        "print(\"Shape of first image (all channels):\", first_image_all_channels.shape)\n",
        "\n",
        "# TODO: Get a 14x14 slice from the center of each image\n",
        "center_slice = images[:, :, 7:21, 7:21]  # Assuming images are 28x28\n",
        "print(\"Shape of center slice:\", center_slice.shape)\n",
        "\n",
        "# Cell 7: Visualize original and manipulated images\n",
        "# TODO: Complete the visualization code\n",
        "plt.figure(figsize=(15, 5))\n",
        "\n",
        "# Original image\n",
        "plt.subplot(1, 3, 1)\n",
        "plt.imshow(images[0].squeeze(), cmap='gray')\n",
        "plt.title(\"Original Image\")\n",
        "plt.axis('off')\n",
        "\n",
        "# Flattened and reshaped image\n",
        "plt.subplot(1, 3, 2)\n",
        "plt.imshow(flattened_images[0].view(28, 28), cmap='gray')  # Reshape to original size\n",
        "plt.title(\"Flattened Image\")\n",
        "plt.axis('off')\n",
        "\n",
        "# Center slice\n",
        "plt.subplot(1, 3, 3)\n",
        "plt.imshow(center_slice[0].squeeze(), cmap='gray')\n",
        "plt.title(\"Center Slice\")\n",
        "plt.axis('off')\n",
        "\n",
        "plt.tight_layout()\n",
        "plt.show()\n",
        "\n",
        "# Cell 8: Convert between NumPy and PyTorch\n",
        "# TODO: Convert the PyTorch 'images' tensor to a NumPy array\n",
        "np_images = images.numpy()\n",
        "print(\"Shape of NumPy array:\", np_images.shape)\n",
        "\n",
        "# TODO: Convert the NumPy array back to a PyTorch tensor\n",
        "torch_images = torch.from_numpy(np_images)\n",
        "print(\"Shape of PyTorch tensor:\", torch_images.shape)\n"
      ],
      "metadata": {
        "colab": {
          "base_uri": "https://localhost:8080/",
          "height": 684
        },
        "id": "J8AnLlS7H789",
        "outputId": "ed2dc061-5bad-45bf-ecb8-12fe81127e7e"
      },
      "execution_count": 15,
      "outputs": [
        {
          "output_type": "stream",
          "name": "stdout",
          "text": [
            "Shape of the batch: torch.Size([64, 1, 28, 28])\n",
            "Shape after adding dimension: torch.Size([64, 1, 1, 28, 28])\n",
            "Shape after removing dimension: torch.Size([64, 1, 28, 28])\n",
            "Shape of flattened images: torch.Size([64, 784])\n",
            "Shape of first 10 images: torch.Size([10, 1, 28, 28])\n",
            "Shape of first image (all channels): torch.Size([1, 28, 28])\n",
            "Shape of center slice: torch.Size([64, 1, 14, 14])\n"
          ]
        },
        {
          "output_type": "display_data",
          "data": {
            "text/plain": [
              "<Figure size 1500x500 with 3 Axes>"
            ],
            "image/png": "[encoded data removed]"
          },
          "metadata": {}
        },
        {
          "output_type": "stream",
          "name": "stdout",
          "text": [
            "Shape of NumPy array: (64, 1, 28, 28)\n",
            "Shape of PyTorch tensor: torch.Size([64, 1, 28, 28])\n"
          ]
        }
      ]
    },
    {
      "cell_type": "code",
      "source": [],
      "metadata": {
        "id": "pdXcnNq7H7_5"
      },
      "execution_count": null,
      "outputs": []
    },
    {
      "cell_type": "code",
      "source": [
        "\n",
        "\n",
        "\n",
        "\n",
        "\n",
        "\n",
        "\n",
        "\n"
      ],
      "metadata": {
        "id": "md-fJmyRH8DD"
      },
      "execution_count": null,
      "outputs": []
    }
  ]
}