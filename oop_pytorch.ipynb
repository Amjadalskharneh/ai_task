{
  "nbformat": 4,
  "nbformat_minor": 0,
  "metadata": {
    "colab": {
      "provenance": [],
      "include_colab_link": true
    },
    "kernelspec": {
      "name": "python3",
      "display_name": "Python 3"
    },
    "language_info": {
      "name": "python"
    }
  },
  "cells": [
    {
      "cell_type": "markdown",
      "metadata": {
        "id": "view-in-github",
        "colab_type": "text"
      },
      "source": [
        "<a href=\"https://colab.research.google.com/github/Amjadalskharneh/ai_task/blob/main/oop_pytorch.ipynb\" target=\"_parent\"><img src=\"https://colab.research.google.com/assets/colab-badge.svg\" alt=\"Open In Colab\"/></a>"
      ]
    },
    {
      "cell_type": "markdown",
      "source": [
        "# Optional Assignment: Object-Oriented Programming in Python\n",
        "\n",
        "## Introduction\n",
        "\n",
        "This optional assignment will help you become familiar with Object-Oriented Programming (OOP) concepts in Python, specifically focusing on classes. Understanding these concepts will be beneficial when you start learning PyTorch.\n",
        "\n",
        "## Part 1: Creating a Simple Class\n",
        "\n",
        "Create a class called `Rectangle` that represents a rectangle shape. The class should have the following features:\n",
        "\n",
        "- Attributes for width and height\n",
        "- A method to calculate the area\n",
        "- A method to calculate the perimeter\n",
        "\n"
      ],
      "metadata": {
        "id": "T08vHGryTatO"
      }
    },
    {
      "cell_type": "code",
      "source": [
        "class Rectangle:\n",
        "    def __init__(self, width, height):\n",
        "        self.width = width\n",
        "        self.height = height\n",
        "\n",
        "    def area(self):\n",
        "        return self.width * self.height\n",
        "\n",
        "    def perimeter(self):\n",
        "        return 2 * (self.width + self.height)\n",
        "\n",
        "# Example usage\n",
        "rect = Rectangle(5, 3)\n",
        "print(f\"Width: {rect.width}, Height: {rect.height}\")\n",
        "print(f\"Area: {rect.area()}\")\n",
        "print(f\"Perimeter: {rect.perimeter()}\")\n"
      ],
      "metadata": {
        "id": "a3rdCGqeTna4",
        "colab": {
          "base_uri": "https://localhost:8080/"
        },
        "outputId": "0989dea0-9ad7-44ed-ad1a-c7ad99d42b0e"
      },
      "execution_count": 4,
      "outputs": [
        {
          "output_type": "stream",
          "name": "stdout",
          "text": [
            "Width: 5, Height: 3\n",
            "Area: 15\n",
            "Perimeter: 16\n"
          ]
        }
      ]
    },
    {
      "cell_type": "markdown",
      "source": [
        "## Part 2: Inheritance\n",
        "\n",
        "Create a `Square` class that inherits from the `Rectangle` class. The `Square` class should:\n",
        "\n",
        "- Have only one side length parameter in its constructor\n",
        "- Override the `__init__` method to set both width and height to the same value\n"
      ],
      "metadata": {
        "id": "rplSjtYiTu5I"
      }
    },
    {
      "cell_type": "code",
      "source": [
        "class Rectangle:\n",
        "    def __init__(self, width, height):\n",
        "        self.width = width\n",
        "        self.height = height\n",
        "\n",
        "    def area(self):\n",
        "        return self.width * self.height\n",
        "\n",
        "    def perimeter(self):\n",
        "        return 2 * (self.width + self.height)\n",
        "\n",
        "class Square(Rectangle):\n",
        "    def __init__(self, side_length):\n",
        "        super().__init__(side_length, side_length)\n",
        "\n",
        "# Example usage\n",
        "sq = Square(5)\n",
        "print(f\"Side length: {sq.width}\")  # Since width and height are the same in a square, we can use either attribute.\n",
        "print(f\"Area: {sq.area()}\")\n",
        "print(f\"Perimeter: {sq.perimeter()}\")\n"
      ],
      "metadata": {
        "id": "Y_8UMw-IT1cd",
        "colab": {
          "base_uri": "https://localhost:8080/"
        },
        "outputId": "4e8b4722-8e10-4c45-e152-68cc995f96e1"
      },
      "execution_count": 6,
      "outputs": [
        {
          "output_type": "stream",
          "name": "stdout",
          "text": [
            "Side length: 5\n",
            "Area: 25\n",
            "Perimeter: 20\n"
          ]
        }
      ]
    },
    {
      "cell_type": "markdown",
      "source": [
        "## Part 3: Polymorphism\n",
        "\n",
        "Create a `Circle` class and demonstrate polymorphism:\n"
      ],
      "metadata": {
        "id": "9Gpx2vltUrFA"
      }
    },
    {
      "cell_type": "code",
      "source": [
        "import math\n",
        "\n",
        "class Rectangle:\n",
        "    def __init__(self, width, height):\n",
        "        self.width = width\n",
        "        self.height = height\n",
        "\n",
        "    def area(self):\n",
        "        return self.width * self.height\n",
        "\n",
        "    def perimeter(self):\n",
        "        return 2 * (self.width + self.height)\n",
        "\n",
        "class Square(Rectangle):\n",
        "    def __init__(self, side_length):\n",
        "        super().__init__(side_length, side_length)\n",
        "\n",
        "class Circle:\n",
        "    def __init__(self, radius):\n",
        "        self.radius = radius\n",
        "\n",
        "    def area(self):\n",
        "        return math.pi * (self.radius ** 2)\n",
        "\n",
        "    def circumference(self):\n",
        "        return 2 * math.pi * self.radius\n",
        "\n",
        "# Demonstrate polymorphism\n",
        "def print_shape_info(shape):\n",
        "    print(f\"Area: {shape.area()}\")\n",
        "    if isinstance(shape, Rectangle):\n",
        "        print(f\"Perimeter: {shape.perimeter()}\")\n",
        "    elif isinstance(shape, Circle):\n",
        "        print(f\"Circumference: {shape.circumference()}\")\n",
        "\n",
        "# Example usage\n",
        "rect = Rectangle(5, 4)\n",
        "sq = Square(4)\n",
        "circle = Circle(3)\n",
        "\n",
        "print(\"Rectangle:\")\n",
        "print_shape_info(rect)\n",
        "print(\"\\nSquare:\")\n",
        "print_shape_info(sq)\n",
        "print(\"\\nCircle:\")\n",
        "print_shape_info(circle)\n"
      ],
      "metadata": {
        "id": "IA__fEHiUqU4",
        "colab": {
          "base_uri": "https://localhost:8080/"
        },
        "outputId": "7adf7d01-af52-43f7-c0bf-735577240a6b"
      },
      "execution_count": 9,
      "outputs": [
        {
          "output_type": "stream",
          "name": "stdout",
          "text": [
            "Rectangle:\n",
            "Area: 20\n",
            "Perimeter: 18\n",
            "\n",
            "Square:\n",
            "Area: 16\n",
            "Perimeter: 16\n",
            "\n",
            "Circle:\n",
            "Area: 28.274333882308138\n",
            "Circumference: 18.84955592153876\n"
          ]
        }
      ]
    }
  ]
}